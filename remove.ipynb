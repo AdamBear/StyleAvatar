{
 "cells": [
  {
   "cell_type": "code",
   "execution_count": 1,
   "id": "8461a7d0-b72b-46ca-949f-28f4afc848d6",
   "metadata": {},
   "outputs": [],
   "source": [
    "import os"
   ]
  },
  {
   "cell_type": "code",
   "execution_count": 15,
   "id": "ea1894f5-ebfc-4d4d-9aa1-b939e6075745",
   "metadata": {},
   "outputs": [],
   "source": [
    "import chardet\n",
    "\n",
    "def decode_data(data):\n",
    "    encoding = chardet.detect(data)['encoding']\n",
    "    print(encoding)\n",
    "    return data.decode(encoding)"
   ]
  },
  {
   "cell_type": "code",
   "execution_count": 16,
   "id": "db15fb98-4b79-4e75-aeb2-7665be1196c0",
   "metadata": {},
   "outputs": [
    {
     "name": "stdout",
     "output_type": "stream",
     "text": [
      "UTF-16\n"
     ]
    }
   ],
   "source": [
    "with open(\"styleavatar.yaml\", \"rb\") as fin:\n",
    "    data = fin.read()\n",
    "    yaml_text = decode_data(data)"
   ]
  },
  {
   "cell_type": "code",
   "execution_count": 17,
   "id": "a7fdcf5d-bc7e-4e63-8bc0-e605039c7900",
   "metadata": {},
   "outputs": [],
   "source": [
    "lines = yaml_text.split(\"\\r\\n\")"
   ]
  },
  {
   "cell_type": "code",
   "execution_count": 31,
   "id": "70734dc6-3673-4823-990d-79221792045b",
   "metadata": {},
   "outputs": [],
   "source": [
    "for idx in range(len(lines)):\n",
    "    line = lines[idx]\n",
    "    if \"=\" in line:\n",
    "        parts = line.split(\"=\")\n",
    "        if len(parts) >= 3:\n",
    "            if len(parts[2].split(\"_\")) == 2:                \n",
    "                line = (\"=\").join(parts[:2])\n",
    "    lines[idx] = line"
   ]
  },
  {
   "cell_type": "code",
   "execution_count": 34,
   "id": "10d8813f-4b77-460e-8fd9-b1bf1964707f",
   "metadata": {},
   "outputs": [],
   "source": [
    "with open(\"env.yaml\", \"w\") as fout:    \n",
    "    fout.write(\"\\r\\n\".join(lines))"
   ]
  },
  {
   "cell_type": "code",
   "execution_count": null,
   "id": "3c63c43c-e1f3-4b86-9519-b40faab2a681",
   "metadata": {},
   "outputs": [],
   "source": []
  }
 ],
 "metadata": {
  "kernelspec": {
   "display_name": "Python 3 (ipykernel)",
   "language": "python",
   "name": "python3"
  },
  "language_info": {
   "codemirror_mode": {
    "name": "ipython",
    "version": 3
   },
   "file_extension": ".py",
   "mimetype": "text/x-python",
   "name": "python",
   "nbconvert_exporter": "python",
   "pygments_lexer": "ipython3",
   "version": "3.11.5"
  }
 },
 "nbformat": 4,
 "nbformat_minor": 5
}
